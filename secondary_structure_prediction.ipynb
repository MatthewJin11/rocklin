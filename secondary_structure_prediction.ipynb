{
 "cells": [
  {
   "cell_type": "code",
   "execution_count": 1,
   "metadata": {},
   "outputs": [
    {
     "name": "stdout",
     "output_type": "stream",
     "text": [
      "(393732, 7)\n",
      "88751\n"
     ]
    },
    {
     "data": {
      "image/png": "[encoded data removed]",
      "text/plain": [
       "<Figure size 432x288 with 1 Axes>"
      ]
     },
     "metadata": {
      "needs_background": "light"
     },
     "output_type": "display_data"
    }
   ],
   "source": [
    "import numpy as np \n",
    "import pandas as pd\n",
    "import matplotlib.pyplot as plt\n",
    "%matplotlib inline\n",
    "\n",
    "df = pd.read_csv('2018-06-06-ss.cleaned.csv') # read in CSV\n",
    "\n",
    "df.len.hist(bins=100) # histogram graph\n",
    "print(df.shape)\n",
    "\n",
    "def seq2ngrams(seqs, n=3):\n",
    "    return np.array([[seq[i:i+n] for i in range(len(seq))] for seq in seqs])\n",
    "\n",
    "maxlen_seq = 128\n",
    "input_seqs, target_seqs = df[['seq', 'sst3']][(df.len <= maxlen_seq) & (~df.has_nonstd_aa)].values.T\n",
    "input_grams = seq2ngrams(input_seqs)\n",
    "# print(input_seqs, input_grams)\n",
    "print(len(input_seqs))"
   ]
  },
  {
   "cell_type": "code",
   "execution_count": 2,
   "metadata": {},
   "outputs": [
    {
     "data": {
      "text/plain": [
       "((88751, 128), (88751, 128, 4))"
      ]
     },
     "execution_count": 2,
     "metadata": {},
     "output_type": "execute_result"
    }
   ],
   "source": [
    "from keras.preprocessing import text, sequence\n",
    "\n",
    "from keras.preprocessing.sequence import pad_sequences\n",
    "\n",
    "from keras.preprocessing.text import Tokenizer\n",
    "from keras.utils import to_categorical\n",
    "\n",
    "tokenizer_encoder = Tokenizer() # Tokenizer Class Instance\n",
    "\n",
    "tokenizer_encoder.fit_on_texts(input_grams) # tokenize the input_grams \n",
    "\n",
    "input_data = tokenizer_encoder.texts_to_sequences(input_grams) \n",
    "\n",
    "# print(input_data)\n",
    "\n",
    "input_data = pad_sequences(input_data, maxlen=maxlen_seq, padding='post') # padding the end so length is same\n",
    "\n",
    "tokenizer_decoder = Tokenizer(char_level=True)\n",
    "\n",
    "tokenizer_decoder.fit_on_texts(target_seqs)\n",
    "\n",
    "target_data = tokenizer_decoder.texts_to_sequences(target_seqs)\n",
    "\n",
    "target_data = pad_sequences(target_data, maxlen=maxlen_seq, padding='post')\n",
    "\n",
    "target_data = to_categorical(target_data)\n",
    "\n",
    "input_data.shape, target_data.shape"
   ]
  },
  {
   "cell_type": "code",
   "execution_count": 4,
   "metadata": {},
   "outputs": [
    {
     "name": "stdout",
     "output_type": "stream",
     "text": [
      "8421 4\n",
      "Model: \"model\"\n",
      "_________________________________________________________________\n",
      "Layer (type)                 Output Shape              Param #   \n",
      "=================================================================\n",
      "input_1 (InputLayer)         [(None, 128)]             0         \n",
      "_________________________________________________________________\n",
      "embedding (Embedding)        (None, 128, 128)          1077888   \n",
      "_________________________________________________________________\n",
      "bidirectional (Bidirectional (None, 128, 128)          98816     \n",
      "_________________________________________________________________\n",
      "time_distributed (TimeDistri (None, 128, 4)            516       \n",
      "=================================================================\n",
      "Total params: 1,177,220\n",
      "Trainable params: 1,177,220\n",
      "Non-trainable params: 0\n",
      "_________________________________________________________________\n"
     ]
    }
   ],
   "source": [
    "from keras.models import Model, Input\n",
    "from keras.layers import LSTM, Embedding, Dense, TimeDistributed, Bidirectional\n",
    "\n",
    "n_words = len(tokenizer_encoder.word_index) + 1\n",
    "\n",
    "n_tags = len(tokenizer_decoder.word_index) + 1\n",
    "print(n_words, n_tags)\n",
    "\n",
    "input = Input(shape=(maxlen_seq,))\n",
    "x = Embedding(input_dim=n_words, output_dim=128, input_length=maxlen_seq)(input)\n",
    "x = Bidirectional(LSTM(units=64, return_sequences=True, recurrent_dropout=0.1))(x)\n",
    "y = TimeDistributed(Dense(n_tags, activation=\"softmax\"))(x)\n",
    "model = Model(input, y)\n",
    "model.summary()"
   ]
  },
  {
   "cell_type": "code",
   "execution_count": 5,
   "metadata": {},
   "outputs": [
    {
     "name": "stdout",
     "output_type": "stream",
     "text": [
      "Epoch 1/5\n",
      "417/417 [==============================] - 320s 768ms/step - loss: 0.4039 - accuracy: 0.8300 - q3_acc: 0.7306 - val_loss: 0.3285 - val_accuracy: 0.8644 - val_q3_acc: 0.7850\n",
      "Epoch 2/5\n",
      "417/417 [==============================] - 346s 831ms/step - loss: 0.2756 - accuracy: 0.8913 - q3_acc: 0.8267 - val_loss: 0.2735 - val_accuracy: 0.8924 - val_q3_acc: 0.8295\n",
      "Epoch 3/5\n",
      "417/417 [==============================] - 360s 862ms/step - loss: 0.2408 - accuracy: 0.9057 - q3_acc: 0.8497 - val_loss: 0.2490 - val_accuracy: 0.9034 - val_q3_acc: 0.8470\n",
      "Epoch 4/5\n",
      "417/417 [==============================] - 369s 885ms/step - loss: 0.2183 - accuracy: 0.9149 - q3_acc: 0.8643 - val_loss: 0.2484 - val_accuracy: 0.9036 - val_q3_acc: 0.8471\n",
      "Epoch 5/5\n",
      "417/417 [==============================] - 386s 926ms/step - loss: 0.2015 - accuracy: 0.9217 - q3_acc: 0.8752 - val_loss: 0.2263 - val_accuracy: 0.9129 - val_q3_acc: 0.8619\n"
     ]
    },
    {
     "data": {
      "text/plain": [
       "<tensorflow.python.keras.callbacks.History at 0x7f82e9f104a8>"
      ]
     },
     "execution_count": 5,
     "metadata": {},
     "output_type": "execute_result"
    }
   ],
   "source": [
    "from sklearn.model_selection import train_test_split\n",
    "from keras.metrics import categorical_accuracy\n",
    "from keras import backend as K\n",
    "import tensorflow as tf\n",
    "\n",
    "def q3_acc(y_true, y_pred):\n",
    "    y = tf.argmax(y_true, axis=-1)\n",
    "    y_ = tf.argmax(y_pred, axis=-1)\n",
    "    mask = tf.greater(y, 0)\n",
    "    return K.cast(K.equal(tf.boolean_mask(y, mask), tf.boolean_mask(y_, mask)), K.floatx())\n",
    "\n",
    "model.compile(optimizer=\"rmsprop\", loss=\"categorical_crossentropy\", metrics=[\"accuracy\", q3_acc])\n",
    "\n",
    "X_train, X_test, y_train, y_test = train_test_split(input_data, target_data, test_size=.4, random_state=0)\n",
    "seq_train, seq_test, target_train, target_test = train_test_split(input_seqs, target_seqs, test_size=.4, random_state=0)\n",
    "\n",
    "model.fit(X_train, y_train, batch_size=128, epochs=5, validation_data=(X_test, y_test), verbose=1)"
   ]
  },
  {
   "cell_type": "code",
   "execution_count": 6,
   "metadata": {},
   "outputs": [
    {
     "name": "stdout",
     "output_type": "stream",
     "text": [
      "training\n",
      "---\n",
      "Input: MGDKPIWEQIGSSFINHYYQLFDNDRTQLGAIYIDASCLTWEGQQFQGKAAIVEKLSSLPFQKIQHSITAQDHQPTPDSCIISMVVGQLKADEDPIMGFHQEFLLKNINDAWVCTNDMFRLALHNFG\n",
      "Target: CCCCCHHHHHHHHHHHHHHHHHHHCHHHHHHHCCCCCEEEECCEEEECHHHHHHHHHHCCCCCEEEEEEEEEEEECCCCCEEEEEEEEEEECCCCCEEEEEEEEEEECCCCEEEEEEEEEEECCCCC\n",
      "Result: CCCCCHHHHHHHHHHHHHHHHHHHCHHHHCHEEEEEEEEEEECEEEECHHHHHHHHHCCCCCCEEEEEEEEEEEECCCCCEEEEEEEEEEEECCCEEEEEEEEEEEEECCCEEEEEEEEEEECCCCC\n"
     ]
    },
    {
     "data": {
      "image/png": "[encoded data removed]",
      "text/plain": [
       "<Figure size 720x144 with 1 Axes>"
      ]
     },
     "metadata": {
      "needs_background": "light"
     },
     "output_type": "display_data"
    },
    {
     "name": "stdout",
     "output_type": "stream",
     "text": [
      "---\n",
      "Input: SRGTQTE\n",
      "Target: CEEEECC\n",
      "Result: CCCCCCC\n"
     ]
    },
    {
     "data": {
      "image/png": "[encoded data removed]",
      "text/plain": [
       "<Figure size 720x144 with 1 Axes>"
      ]
     },
     "metadata": {
      "needs_background": "light"
     },
     "output_type": "display_data"
    },
    {
     "name": "stdout",
     "output_type": "stream",
     "text": [
      "---\n",
      "Input: MKEEKRSSTGFLVKQRAFLKLYMITMTEQERLYGLKLLKVLQSEFKEIGFKPNHTEVYRSLHELLDDGILKQIKVKKEGAKLQEVVLYQFKDYEAAKLYKKQLKVELDRCKKLIEKALSDNF\n",
      "Target: CCCCCCCCCCCCCCHHHHHHHHHHHHHHCCCEECCCCHHHHHHHHCCCCCCCCHHHHHHHHHHHHHCCCEEEEECCCCCCCCCCCEEEEECCHHHHHHHHHHHHHHHHHHHHHHHHHHHHHC\n",
      "Result: CCCCCCCCCCCCCHHHHHHHHHHHHHHHHHHCCCHHHHHHHHHHHCCCCCCCCHHHHHHHHHHHHCHCCHEEEEECCCCCCCCCEEEEECHCHHHHHHHHHHHHHHHHHHHHHHHHHHHCCC\n"
     ]
    },
    {
     "data": {
      "image/png": "[encoded data removed]",
      "text/plain": [
       "<Figure size 720x144 with 1 Axes>"
      ]
     },
     "metadata": {
      "needs_background": "light"
     },
     "output_type": "display_data"
    },
    {
     "name": "stdout",
     "output_type": "stream",
     "text": [
      "testing\n",
      "---\n",
      "Input: MKRQKRDRLERAHQRGYQAGIAGRSKEMCPYQTLNQRSQWLGGWREAMADRVVMAHHHHHH\n",
      "Target: CCCCCHHHHHHHHHHHHHHHHCCCCCCCCCCCCHHHHHHHHHHHHHHHHHCCCCCCCCCCC\n",
      "Result: CCCCHHHHHHHHHHHHHHHHHHCCCHHCCCHHHHHHHHHHHHHHHHHHHHHHCCCCCCCCC\n"
     ]
    },
    {
     "data": {
      "image/png": "[encoded data removed]",
      "text/plain": [
       "<Figure size 720x144 with 1 Axes>"
      ]
     },
     "metadata": {
      "needs_background": "light"
     },
     "output_type": "display_data"
    },
    {
     "name": "stdout",
     "output_type": "stream",
     "text": [
      "---\n",
      "Input: YCQKWMWTCDEERKCCEGLVCRLWCKRIINM\n",
      "Target: CCCCCCCECCCCCCCCCCCECCCECECCCCC\n",
      "Result: CCCCCEEECCCCCEEECCCCCEEEEEEEEEC\n"
     ]
    },
    {
     "data": {
      "image/png": "[encoded data removed]",
      "text/plain": [
       "<Figure size 720x144 with 1 Axes>"
      ]
     },
     "metadata": {
      "needs_background": "light"
     },
     "output_type": "display_data"
    },
    {
     "name": "stdout",
     "output_type": "stream",
     "text": [
      "---\n",
      "Input: TEFSEEQKRTLDLLFLFDRRMTEERRRWLSQRLGLNEEQIERWFRRKEQQI\n",
      "Target: CCCCCCHHHHHHHHHHHHHHHHHHHHHHHHHHCCCCHHHHHHHHHCCCCCC\n",
      "Result: CCCCHHHHHHHHHHHHHHHHHHHHHHHHHHHHCCCCHHHHHHHHHHHCCCC\n"
     ]
    },
    {
     "data": {
      "image/png": "[encoded data removed]",
      "text/plain": [
       "<Figure size 720x144 with 1 Axes>"
      ]
     },
     "metadata": {
      "needs_background": "light"
     },
     "output_type": "display_data"
    }
   ],
   "source": [
    "def onehot_to_seq(oh_seq, index):\n",
    "    s = ''\n",
    "    for o in oh_seq:\n",
    "        i = np.argmax(o)\n",
    "        if i != 0:\n",
    "            s += index[i]\n",
    "        else:\n",
    "            break\n",
    "    return s\n",
    "\n",
    "def plot_results(x, y, y_):\n",
    "    print(\"---\")\n",
    "    print(\"Input: \" + str(x))\n",
    "    print(\"Target: \" + str(onehot_to_seq(y, revsere_decoder_index).upper()))\n",
    "    print(\"Result: \" + str(onehot_to_seq(y_, revsere_decoder_index).upper()))\n",
    "    fig = plt.figure(figsize=(10,2))\n",
    "    plt.imshow(y.T, cmap='Blues')\n",
    "    plt.imshow(y_.T, cmap='Reds', alpha=.5)\n",
    "    plt.yticks(range(4), [' '] + [revsere_decoder_index[i+1].upper() for i in range(3)])\n",
    "    plt.show()\n",
    "    \n",
    "revsere_decoder_index = {value:key for key,value in tokenizer_decoder.word_index.items()}\n",
    "revsere_encoder_index = {value:key for key,value in tokenizer_encoder.word_index.items()}\n",
    "\n",
    "N=3\n",
    "y_train_pred = model.predict(X_train[:N])\n",
    "y_test_pred = model.predict(X_test[:N])\n",
    "print('training')\n",
    "for i in range(N):\n",
    "    plot_results(seq_train[i], y_train[i], y_train_pred[i])\n",
    "print('testing')\n",
    "for i in range(N):\n",
    "    plot_results(seq_test[i], y_test[i], y_test_pred[i])\n",
    "    \n",
    "    "
   ]
  },
  {
   "cell_type": "code",
   "execution_count": null,
   "metadata": {},
   "outputs": [],
   "source": []
  }
 ],
 "metadata": {
  "kernelspec": {
   "display_name": "Python 3",
   "language": "python",
   "name": "python3"
  },
  "language_info": {
   "codemirror_mode": {
    "name": "ipython",
    "version": 3
   },
   "file_extension": ".py",
   "mimetype": "text/x-python",
   "name": "python",
   "nbconvert_exporter": "python",
   "pygments_lexer": "ipython3",
   "version": "3.8.5"
  }
 },
 "nbformat": 4,
 "nbformat_minor": 2
}
